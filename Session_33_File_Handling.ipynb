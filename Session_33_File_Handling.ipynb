{
 "cells": [
  {
   "cell_type": "markdown",
   "id": "7120d010",
   "metadata": {},
   "source": [
    "### 9.3.1 File Opening\n",
    "* Before reading or writting in to a file, its necessary to open a file\n",
    "* To do this, in python we have `open()`built-in function and syntax can be written as;\n",
    "\n",
    "```python\n",
    "file_object = open(file_name, access_mode, buffering)\n",
    "```\n",
    "**Used parameter details;**\n",
    "\n",
    "**file_name:** Its a string value argument that contains the file name which you want to consider.\n",
    "\n",
    "**access_mode:** The mode in which file has to be opened, i.e., write, read, append, etc. Down in the table a complete list is provided and it is an non-compulsory parameter (read (r) is a default access mode in file).\n",
    "\n",
    "**buffering:** If the value of buffering is 0 then no buffering will occur. If the value of buffering is 1 then line buffering will take place during file operation, when an integer value greater than 1 is provided, then buffering action is performed with specified buffer size. If buffering is negative, then it considered as the default buffer size in system.\n",
    "\n",
    "\n",
    "**Different types of mode**\n",
    "\n",
    "|Modes|Explanation|\n",
    "|:-|:-|\n",
    "|r|Only for reading. The pointer is located at the start of file and it’s a default mode.|\n",
    "|rb|Only for reading in a binary format. The pointer is located at the start of file and it’s a default mode.|\n",
    "|r+|To opens a file for the both writing and reading. The pointer is located at the start of file.|\n",
    "|rb+|For the both writing and reading operation in binary format. The pointer is located at the start of file.|\n",
    "|w|Only for writing. Check for existing file, if its present overwrites in the exists file. If there is no any existing file then, makes a novel file for the writing.|\n",
    "|wb|Only for writing in a binary format. Check for existing file, if its present overwrites in the exists file. If there is no any existing file then, makes a novel file for the writing.|\n",
    "|w+|For the both writing and reading operation. Check for existing file, if its present overwrites in the exists file. If there is no any existing file then, makes a novel file for the writing and reading.|\n",
    "|wb+|For the both writing and reading operation in binary format. Check for existing file, if its present overwrites in the exists file. If there is no any existing file then, makes a novel file for the writing and reading.|\n",
    "|a|opens the file for appending; any data written to the file is automatically added to the end. Check for existing file, if its present pointer is set at last of existing file for appending operation. If there is no any existing file then, makes a novel file for the writing.|\n",
    "\n",
    "> **Note:** Other that that `ab`, `a+` and `ab+` are some other modes\n",
    "\n"
   ]
  },
  {
   "cell_type": "code",
   "execution_count": 2,
   "id": "6680e8a8",
   "metadata": {},
   "outputs": [
    {
     "data": {
      "text/plain": [
       "'/Users/anupjha/Desktop/Desk/AI KI PAATHSHALA/Python'"
      ]
     },
     "execution_count": 2,
     "metadata": {},
     "output_type": "execute_result"
    }
   ],
   "source": [
    "pwd"
   ]
  },
  {
   "cell_type": "code",
   "execution_count": 3,
   "id": "83857368",
   "metadata": {},
   "outputs": [],
   "source": [
    "import os"
   ]
  },
  {
   "cell_type": "code",
   "execution_count": 4,
   "id": "782d27bb",
   "metadata": {},
   "outputs": [
    {
     "data": {
      "text/plain": [
       "'/Users/anupjha/Desktop/Desk/AI KI PAATHSHALA/Python'"
      ]
     },
     "execution_count": 4,
     "metadata": {},
     "output_type": "execute_result"
    }
   ],
   "source": [
    "os.getcwd()"
   ]
  },
  {
   "cell_type": "code",
   "execution_count": 5,
   "id": "a6901503",
   "metadata": {},
   "outputs": [],
   "source": [
    "f = open(\"radhe1.txt\", \"wb\")"
   ]
  },
  {
   "cell_type": "code",
   "execution_count": 6,
   "id": "2341421f",
   "metadata": {},
   "outputs": [
    {
     "data": {
      "text/plain": [
       "'radhe1.txt'"
      ]
     },
     "execution_count": 6,
     "metadata": {},
     "output_type": "execute_result"
    }
   ],
   "source": [
    "f.name"
   ]
  },
  {
   "cell_type": "code",
   "execution_count": 7,
   "id": "5c05eb2e",
   "metadata": {},
   "outputs": [
    {
     "data": {
      "text/plain": [
       "False"
      ]
     },
     "execution_count": 7,
     "metadata": {},
     "output_type": "execute_result"
    }
   ],
   "source": [
    "f.closed"
   ]
  },
  {
   "cell_type": "code",
   "execution_count": 8,
   "id": "1bea6810",
   "metadata": {},
   "outputs": [
    {
     "data": {
      "text/plain": [
       "'wb'"
      ]
     },
     "execution_count": 8,
     "metadata": {},
     "output_type": "execute_result"
    }
   ],
   "source": [
    "f.mode"
   ]
  },
  {
   "cell_type": "code",
   "execution_count": 9,
   "id": "df9b0a25",
   "metadata": {},
   "outputs": [],
   "source": [
    "f.close()"
   ]
  },
  {
   "cell_type": "code",
   "execution_count": 10,
   "id": "87faff6c",
   "metadata": {},
   "outputs": [
    {
     "data": {
      "text/plain": [
       "True"
      ]
     },
     "execution_count": 10,
     "metadata": {},
     "output_type": "execute_result"
    }
   ],
   "source": [
    "f.closed"
   ]
  },
  {
   "cell_type": "code",
   "execution_count": null,
   "id": "0b9228b9",
   "metadata": {},
   "outputs": [],
   "source": [
    "# Standard practice to always close your file after your operation will end"
   ]
  },
  {
   "cell_type": "code",
   "execution_count": null,
   "id": "854b4d08",
   "metadata": {},
   "outputs": [],
   "source": [
    "# Writing and Reading Operation"
   ]
  },
  {
   "cell_type": "code",
   "execution_count": 11,
   "id": "3a5cde77",
   "metadata": {},
   "outputs": [],
   "source": [
    "f = open(\"radhe1.txt\", 'w')"
   ]
  },
  {
   "cell_type": "code",
   "execution_count": 12,
   "id": "cc561943",
   "metadata": {},
   "outputs": [
    {
     "data": {
      "text/plain": [
       "136"
      ]
     },
     "execution_count": 12,
     "metadata": {},
     "output_type": "execute_result"
    }
   ],
   "source": [
    "f.write(\"Greetings from AI KI Pathshala!! \\nWe value sharing knowledge and help people grow.\\nI also mentor people both personally and carrier wise\")"
   ]
  },
  {
   "cell_type": "code",
   "execution_count": 13,
   "id": "dd2670e4",
   "metadata": {},
   "outputs": [],
   "source": [
    "f.close()"
   ]
  },
  {
   "cell_type": "code",
   "execution_count": 14,
   "id": "1037a0e1",
   "metadata": {},
   "outputs": [
    {
     "name": "stdout",
     "output_type": "stream",
     "text": [
      "Writing hanuman.txt\n"
     ]
    }
   ],
   "source": [
    "%%writefile hanuman.txt\n",
    "The name of my learning Partners are SBM, Ruchi, Rakesh, Anup"
   ]
  },
  {
   "cell_type": "code",
   "execution_count": 24,
   "id": "4bdefb2d",
   "metadata": {},
   "outputs": [
    {
     "data": {
      "text/plain": [
       "'Greetings from AI KI Pathshala!! \\nWe value sharing knowledge and help people grow.\\nI also mentor people both personally and carrier wise'"
      ]
     },
     "execution_count": 24,
     "metadata": {},
     "output_type": "execute_result"
    }
   ],
   "source": [
    "file = open(\"radhe1.txt\")\n",
    "file.read()"
   ]
  },
  {
   "cell_type": "code",
   "execution_count": 20,
   "id": "12c3dd98",
   "metadata": {},
   "outputs": [
    {
     "data": {
      "text/plain": [
       "'The name of my learning Partners are SBM, Ruchi, Rakesh, Anup\\n'"
      ]
     },
     "execution_count": 20,
     "metadata": {},
     "output_type": "execute_result"
    }
   ],
   "source": [
    "file1 = open(\"hanuman.txt\")\n",
    "file1.read()"
   ]
  },
  {
   "cell_type": "code",
   "execution_count": 17,
   "id": "2f2ee87d",
   "metadata": {},
   "outputs": [
    {
     "data": {
      "text/plain": [
       "''"
      ]
     },
     "execution_count": 17,
     "metadata": {},
     "output_type": "execute_result"
    }
   ],
   "source": [
    "file.read()"
   ]
  },
  {
   "cell_type": "code",
   "execution_count": 26,
   "id": "2f589013",
   "metadata": {},
   "outputs": [
    {
     "data": {
      "text/plain": [
       "0"
      ]
     },
     "execution_count": 26,
     "metadata": {},
     "output_type": "execute_result"
    }
   ],
   "source": [
    "file.seek(0) # seek method is used to set pointer"
   ]
  },
  {
   "cell_type": "code",
   "execution_count": 27,
   "id": "7f6d4cf0",
   "metadata": {},
   "outputs": [
    {
     "data": {
      "text/plain": [
       "'Greetings from AI KI Pathshala!! \\nWe value sharing knowledge and help people grow.\\nI also mentor people both personally and carrier wise'"
      ]
     },
     "execution_count": 27,
     "metadata": {},
     "output_type": "execute_result"
    }
   ],
   "source": [
    "file.read()"
   ]
  },
  {
   "cell_type": "code",
   "execution_count": 28,
   "id": "68958a7a",
   "metadata": {},
   "outputs": [
    {
     "data": {
      "text/plain": [
       "''"
      ]
     },
     "execution_count": 28,
     "metadata": {},
     "output_type": "execute_result"
    }
   ],
   "source": [
    "file.read()"
   ]
  },
  {
   "cell_type": "code",
   "execution_count": 29,
   "id": "f41bc5f9",
   "metadata": {},
   "outputs": [
    {
     "data": {
      "text/plain": [
       "0"
      ]
     },
     "execution_count": 29,
     "metadata": {},
     "output_type": "execute_result"
    }
   ],
   "source": [
    "file.seek(0)"
   ]
  },
  {
   "cell_type": "code",
   "execution_count": 30,
   "id": "24380efb",
   "metadata": {},
   "outputs": [
    {
     "data": {
      "text/plain": [
       "'Greetings from AI KI Pathshala!! \\nWe value sharing knowledge and help people grow.\\nI also mentor people both personally and carrier wise'"
      ]
     },
     "execution_count": 30,
     "metadata": {},
     "output_type": "execute_result"
    }
   ],
   "source": [
    "file.read()"
   ]
  },
  {
   "cell_type": "code",
   "execution_count": 31,
   "id": "4ab6dfb6",
   "metadata": {},
   "outputs": [
    {
     "data": {
      "text/plain": [
       "15"
      ]
     },
     "execution_count": 31,
     "metadata": {},
     "output_type": "execute_result"
    }
   ],
   "source": [
    "file.seek(15)"
   ]
  },
  {
   "cell_type": "code",
   "execution_count": 32,
   "id": "653de8ac",
   "metadata": {},
   "outputs": [
    {
     "data": {
      "text/plain": [
       "'AI KI Pathshala!! \\nWe value sharing knowledge and help people grow.\\nI also mentor people both personally and carrier wise'"
      ]
     },
     "execution_count": 32,
     "metadata": {},
     "output_type": "execute_result"
    }
   ],
   "source": [
    "file.read()"
   ]
  },
  {
   "cell_type": "code",
   "execution_count": 33,
   "id": "df6ee389",
   "metadata": {},
   "outputs": [
    {
     "data": {
      "text/plain": [
       "''"
      ]
     },
     "execution_count": 33,
     "metadata": {},
     "output_type": "execute_result"
    }
   ],
   "source": [
    "file.read(15)"
   ]
  },
  {
   "cell_type": "code",
   "execution_count": 34,
   "id": "311fa2fb",
   "metadata": {},
   "outputs": [
    {
     "data": {
      "text/plain": [
       "0"
      ]
     },
     "execution_count": 34,
     "metadata": {},
     "output_type": "execute_result"
    }
   ],
   "source": [
    "file.seek(0)"
   ]
  },
  {
   "cell_type": "code",
   "execution_count": 35,
   "id": "870e3eac",
   "metadata": {},
   "outputs": [
    {
     "data": {
      "text/plain": [
       "'Greetings from '"
      ]
     },
     "execution_count": 35,
     "metadata": {},
     "output_type": "execute_result"
    }
   ],
   "source": [
    "file.read(15)"
   ]
  },
  {
   "cell_type": "code",
   "execution_count": 36,
   "id": "bc983ffd",
   "metadata": {},
   "outputs": [
    {
     "data": {
      "text/plain": [
       "0"
      ]
     },
     "execution_count": 36,
     "metadata": {},
     "output_type": "execute_result"
    }
   ],
   "source": [
    "file.seek(0)"
   ]
  },
  {
   "cell_type": "code",
   "execution_count": 37,
   "id": "d41ee0a2",
   "metadata": {},
   "outputs": [
    {
     "data": {
      "text/plain": [
       "'Greetings from AI KI Pathshala!! \\nWe value sharing knowledge and help people grow.\\nI also mentor people both personally and carrier wise'"
      ]
     },
     "execution_count": 37,
     "metadata": {},
     "output_type": "execute_result"
    }
   ],
   "source": [
    "file.read()"
   ]
  },
  {
   "cell_type": "code",
   "execution_count": 38,
   "id": "1b3ef5e5",
   "metadata": {},
   "outputs": [
    {
     "data": {
      "text/plain": [
       "0"
      ]
     },
     "execution_count": 38,
     "metadata": {},
     "output_type": "execute_result"
    }
   ],
   "source": [
    "file.seek(0)"
   ]
  },
  {
   "cell_type": "code",
   "execution_count": 39,
   "id": "76178512",
   "metadata": {},
   "outputs": [
    {
     "data": {
      "text/plain": [
       "'Greetings from AI KI'"
      ]
     },
     "execution_count": 39,
     "metadata": {},
     "output_type": "execute_result"
    }
   ],
   "source": [
    "file.read(20)"
   ]
  },
  {
   "cell_type": "code",
   "execution_count": 40,
   "id": "7a2b22c5",
   "metadata": {},
   "outputs": [
    {
     "data": {
      "text/plain": [
       "' Path'"
      ]
     },
     "execution_count": 40,
     "metadata": {},
     "output_type": "execute_result"
    }
   ],
   "source": [
    "file.read(5)"
   ]
  },
  {
   "cell_type": "code",
   "execution_count": 41,
   "id": "998953d0",
   "metadata": {},
   "outputs": [
    {
     "ename": "ValueError",
     "evalue": "I/O operation on closed file.",
     "output_type": "error",
     "traceback": [
      "\u001b[0;31m---------------------------------------------------------------------------\u001b[0m",
      "\u001b[0;31mValueError\u001b[0m                                Traceback (most recent call last)",
      "Cell \u001b[0;32mIn[41], line 1\u001b[0m\n\u001b[0;32m----> 1\u001b[0m f\u001b[38;5;241m.\u001b[39mseek(\u001b[38;5;241m50\u001b[39m)\n",
      "\u001b[0;31mValueError\u001b[0m: I/O operation on closed file."
     ]
    }
   ],
   "source": [
    "f.seek(50)"
   ]
  },
  {
   "cell_type": "code",
   "execution_count": 42,
   "id": "029d0810",
   "metadata": {},
   "outputs": [
    {
     "ename": "ValueError",
     "evalue": "I/O operation on closed file.",
     "output_type": "error",
     "traceback": [
      "\u001b[0;31m---------------------------------------------------------------------------\u001b[0m",
      "\u001b[0;31mValueError\u001b[0m                                Traceback (most recent call last)",
      "Cell \u001b[0;32mIn[42], line 1\u001b[0m\n\u001b[0;32m----> 1\u001b[0m f\u001b[38;5;241m.\u001b[39mseek(\u001b[38;5;241m30\u001b[39m)\n",
      "\u001b[0;31mValueError\u001b[0m: I/O operation on closed file."
     ]
    }
   ],
   "source": [
    "f.seek(30)"
   ]
  },
  {
   "cell_type": "code",
   "execution_count": 43,
   "id": "78898b7e",
   "metadata": {},
   "outputs": [],
   "source": [
    "f.close()"
   ]
  },
  {
   "cell_type": "code",
   "execution_count": 44,
   "id": "cab7bd0b",
   "metadata": {},
   "outputs": [
    {
     "data": {
      "text/plain": [
       "'Greetings from AI KI Pathshala!! \\nWe value sharing knowledge and help people grow.\\nI also mentor people both personally and carrier wise'"
      ]
     },
     "execution_count": 44,
     "metadata": {},
     "output_type": "execute_result"
    }
   ],
   "source": [
    "file = open(\"radhe1.txt\")\n",
    "file.read()"
   ]
  },
  {
   "cell_type": "code",
   "execution_count": 45,
   "id": "e015f969",
   "metadata": {},
   "outputs": [
    {
     "data": {
      "text/plain": [
       "30"
      ]
     },
     "execution_count": 45,
     "metadata": {},
     "output_type": "execute_result"
    }
   ],
   "source": [
    "file.seek(30)"
   ]
  },
  {
   "cell_type": "code",
   "execution_count": 46,
   "id": "0d0643e5",
   "metadata": {},
   "outputs": [
    {
     "data": {
      "text/plain": [
       "'!! \\nWe value sharing knowledge and help people grow.\\nI also mentor people both personally and carrier wise'"
      ]
     },
     "execution_count": 46,
     "metadata": {},
     "output_type": "execute_result"
    }
   ],
   "source": [
    "file.read()"
   ]
  },
  {
   "cell_type": "code",
   "execution_count": 47,
   "id": "00055bb5",
   "metadata": {},
   "outputs": [
    {
     "data": {
      "text/plain": [
       "60"
      ]
     },
     "execution_count": 47,
     "metadata": {},
     "output_type": "execute_result"
    }
   ],
   "source": [
    "file.seek(60)"
   ]
  },
  {
   "cell_type": "code",
   "execution_count": 48,
   "id": "c014c760",
   "metadata": {},
   "outputs": [
    {
     "data": {
      "text/plain": [
       "' and help people grow.\\nI also mentor people both personally and carrier wise'"
      ]
     },
     "execution_count": 48,
     "metadata": {},
     "output_type": "execute_result"
    }
   ],
   "source": [
    "file.read()"
   ]
  },
  {
   "cell_type": "code",
   "execution_count": 49,
   "id": "b1a99c02",
   "metadata": {},
   "outputs": [],
   "source": [
    "f.close()"
   ]
  },
  {
   "cell_type": "code",
   "execution_count": null,
   "id": "f0313f3d",
   "metadata": {},
   "outputs": [],
   "source": [
    "# file position"
   ]
  },
  {
   "cell_type": "code",
   "execution_count": 50,
   "id": "e72dd09f",
   "metadata": {},
   "outputs": [],
   "source": [
    "f = open(\"radhe1.txt\", 'r+')"
   ]
  },
  {
   "cell_type": "code",
   "execution_count": 51,
   "id": "9e0a20b0",
   "metadata": {},
   "outputs": [
    {
     "data": {
      "text/plain": [
       "0"
      ]
     },
     "execution_count": 51,
     "metadata": {},
     "output_type": "execute_result"
    }
   ],
   "source": [
    "f.tell() # checks the current position"
   ]
  },
  {
   "cell_type": "code",
   "execution_count": 52,
   "id": "cbb6d101",
   "metadata": {},
   "outputs": [
    {
     "data": {
      "text/plain": [
       "10"
      ]
     },
     "execution_count": 52,
     "metadata": {},
     "output_type": "execute_result"
    }
   ],
   "source": [
    "f.seek(10)"
   ]
  },
  {
   "cell_type": "code",
   "execution_count": 53,
   "id": "87f4a969",
   "metadata": {},
   "outputs": [
    {
     "data": {
      "text/plain": [
       "10"
      ]
     },
     "execution_count": 53,
     "metadata": {},
     "output_type": "execute_result"
    }
   ],
   "source": [
    "f.tell()"
   ]
  },
  {
   "cell_type": "code",
   "execution_count": 54,
   "id": "3444bb7d",
   "metadata": {},
   "outputs": [
    {
     "data": {
      "text/plain": [
       "'from '"
      ]
     },
     "execution_count": 54,
     "metadata": {},
     "output_type": "execute_result"
    }
   ],
   "source": [
    "f.read(5)"
   ]
  },
  {
   "cell_type": "code",
   "execution_count": 55,
   "id": "9b6bf4fe",
   "metadata": {},
   "outputs": [
    {
     "data": {
      "text/plain": [
       "15"
      ]
     },
     "execution_count": 55,
     "metadata": {},
     "output_type": "execute_result"
    }
   ],
   "source": [
    "f.tell()"
   ]
  },
  {
   "cell_type": "code",
   "execution_count": 56,
   "id": "6de62b29",
   "metadata": {},
   "outputs": [],
   "source": [
    "f1 = open('Ganesha', 'wb+')"
   ]
  },
  {
   "cell_type": "code",
   "execution_count": 57,
   "id": "a3d5558f",
   "metadata": {},
   "outputs": [
    {
     "data": {
      "text/plain": [
       "'Ganesha'"
      ]
     },
     "execution_count": 57,
     "metadata": {},
     "output_type": "execute_result"
    }
   ],
   "source": [
    "f1.name"
   ]
  },
  {
   "cell_type": "code",
   "execution_count": 58,
   "id": "aabe5629",
   "metadata": {},
   "outputs": [
    {
     "data": {
      "text/plain": [
       "'rb+'"
      ]
     },
     "execution_count": 58,
     "metadata": {},
     "output_type": "execute_result"
    }
   ],
   "source": [
    "f1.mode"
   ]
  },
  {
   "cell_type": "code",
   "execution_count": 60,
   "id": "848b1c05",
   "metadata": {},
   "outputs": [
    {
     "data": {
      "text/plain": [
       "9"
      ]
     },
     "execution_count": 60,
     "metadata": {},
     "output_type": "execute_result"
    }
   ],
   "source": [
    "f1.write(b'123456789')"
   ]
  },
  {
   "cell_type": "code",
   "execution_count": 61,
   "id": "0a62f6b1",
   "metadata": {},
   "outputs": [],
   "source": [
    "f1.close()"
   ]
  },
  {
   "cell_type": "code",
   "execution_count": 62,
   "id": "36d9ba47",
   "metadata": {},
   "outputs": [],
   "source": [
    "f1 = open('Ganesha', 'wb+')"
   ]
  },
  {
   "cell_type": "code",
   "execution_count": 63,
   "id": "e726fa9e",
   "metadata": {},
   "outputs": [
    {
     "data": {
      "text/plain": [
       "5"
      ]
     },
     "execution_count": 63,
     "metadata": {},
     "output_type": "execute_result"
    }
   ],
   "source": [
    "f1.seek(5) # Go to the 6th byte in the file"
   ]
  },
  {
   "cell_type": "code",
   "execution_count": 65,
   "id": "cdb1f503",
   "metadata": {},
   "outputs": [
    {
     "data": {
      "text/plain": [
       "b''"
      ]
     },
     "execution_count": 65,
     "metadata": {},
     "output_type": "execute_result"
    }
   ],
   "source": [
    "f1.read(1)"
   ]
  },
  {
   "cell_type": "code",
   "execution_count": 66,
   "id": "be431889",
   "metadata": {},
   "outputs": [
    {
     "data": {
      "text/plain": [
       "0"
      ]
     },
     "execution_count": 66,
     "metadata": {},
     "output_type": "execute_result"
    }
   ],
   "source": [
    "f1.seek(0)"
   ]
  },
  {
   "cell_type": "code",
   "execution_count": 67,
   "id": "d394b057",
   "metadata": {},
   "outputs": [
    {
     "data": {
      "text/plain": [
       "b''"
      ]
     },
     "execution_count": 67,
     "metadata": {},
     "output_type": "execute_result"
    }
   ],
   "source": [
    "f1.read()"
   ]
  },
  {
   "cell_type": "code",
   "execution_count": 68,
   "id": "1a4bb2ba",
   "metadata": {},
   "outputs": [
    {
     "data": {
      "text/plain": [
       "<function BufferedRandom.tell>"
      ]
     },
     "execution_count": 68,
     "metadata": {},
     "output_type": "execute_result"
    }
   ],
   "source": [
    "f1.tell"
   ]
  },
  {
   "cell_type": "code",
   "execution_count": 69,
   "id": "1df7e9dc",
   "metadata": {},
   "outputs": [
    {
     "data": {
      "text/plain": [
       "b''"
      ]
     },
     "execution_count": 69,
     "metadata": {},
     "output_type": "execute_result"
    }
   ],
   "source": [
    "f1.read(6)"
   ]
  },
  {
   "cell_type": "code",
   "execution_count": 70,
   "id": "dc544024",
   "metadata": {},
   "outputs": [],
   "source": [
    "f.close()"
   ]
  },
  {
   "cell_type": "code",
   "execution_count": 71,
   "id": "f1c883d0",
   "metadata": {},
   "outputs": [],
   "source": [
    "f1 = open('Ganesha', 'wb+')"
   ]
  },
  {
   "cell_type": "code",
   "execution_count": 72,
   "id": "be9e9557",
   "metadata": {},
   "outputs": [
    {
     "data": {
      "text/plain": [
       "b''"
      ]
     },
     "execution_count": 72,
     "metadata": {},
     "output_type": "execute_result"
    }
   ],
   "source": [
    "f1.read()"
   ]
  },
  {
   "cell_type": "code",
   "execution_count": null,
   "id": "9cdc4778",
   "metadata": {},
   "outputs": [],
   "source": [
    "# The readline() Method"
   ]
  },
  {
   "cell_type": "code",
   "execution_count": 73,
   "id": "267f904a",
   "metadata": {},
   "outputs": [],
   "source": [
    "f = open(\"radhe1.txt\", 'r+')"
   ]
  },
  {
   "cell_type": "code",
   "execution_count": 74,
   "id": "c2abf96d",
   "metadata": {},
   "outputs": [
    {
     "data": {
      "text/plain": [
       "'Greetings from AI KI Pathshala!! \\nWe value sharing knowledge and help people grow.\\nI also mentor people both personally and carrier wise'"
      ]
     },
     "execution_count": 74,
     "metadata": {},
     "output_type": "execute_result"
    }
   ],
   "source": [
    "f.read()"
   ]
  },
  {
   "cell_type": "code",
   "execution_count": 75,
   "id": "7fe4a0ed",
   "metadata": {},
   "outputs": [
    {
     "data": {
      "text/plain": [
       "0"
      ]
     },
     "execution_count": 75,
     "metadata": {},
     "output_type": "execute_result"
    }
   ],
   "source": [
    "f.seek(0)"
   ]
  },
  {
   "cell_type": "code",
   "execution_count": 76,
   "id": "2639bce5",
   "metadata": {},
   "outputs": [
    {
     "data": {
      "text/plain": [
       "'Greetings from AI KI Pathshala!! \\n'"
      ]
     },
     "execution_count": 76,
     "metadata": {},
     "output_type": "execute_result"
    }
   ],
   "source": [
    "f.readline()"
   ]
  },
  {
   "cell_type": "code",
   "execution_count": 77,
   "id": "75a0dc86",
   "metadata": {},
   "outputs": [
    {
     "data": {
      "text/plain": [
       "'We value sharing knowledge and help people grow.\\n'"
      ]
     },
     "execution_count": 77,
     "metadata": {},
     "output_type": "execute_result"
    }
   ],
   "source": [
    "f.readline()"
   ]
  },
  {
   "cell_type": "code",
   "execution_count": 78,
   "id": "09e9935b",
   "metadata": {},
   "outputs": [
    {
     "data": {
      "text/plain": [
       "'I also mentor people both personally and carrier wise'"
      ]
     },
     "execution_count": 78,
     "metadata": {},
     "output_type": "execute_result"
    }
   ],
   "source": [
    "f.readline()"
   ]
  },
  {
   "cell_type": "code",
   "execution_count": 79,
   "id": "180d3928",
   "metadata": {},
   "outputs": [
    {
     "data": {
      "text/plain": [
       "''"
      ]
     },
     "execution_count": 79,
     "metadata": {},
     "output_type": "execute_result"
    }
   ],
   "source": [
    "f.readline()"
   ]
  },
  {
   "cell_type": "code",
   "execution_count": 80,
   "id": "16868937",
   "metadata": {},
   "outputs": [],
   "source": [
    "f.close()"
   ]
  },
  {
   "cell_type": "code",
   "execution_count": null,
   "id": "df45f726",
   "metadata": {},
   "outputs": [],
   "source": [
    "# using for loop read lines"
   ]
  },
  {
   "cell_type": "code",
   "execution_count": 84,
   "id": "809f149d",
   "metadata": {},
   "outputs": [
    {
     "name": "stdout",
     "output_type": "stream",
     "text": [
      "Greetings from AI KI Pathshala!! \n",
      "\n",
      "We value sharing knowledge and help people grow.\n",
      "\n",
      "I also mentor people both personally and carrier wise\n"
     ]
    }
   ],
   "source": [
    "f = open(\"radhe1.txt\", 'r+')\n",
    "\n",
    "for line in f:          # for loop automatically read only one line at a time\n",
    "    print(line)\n",
    "    \n",
    "f.close()    "
   ]
  },
  {
   "cell_type": "code",
   "execution_count": null,
   "id": "e1d98374",
   "metadata": {},
   "outputs": [],
   "source": [
    "# The readlines() Method"
   ]
  },
  {
   "cell_type": "code",
   "execution_count": 85,
   "id": "334ab665",
   "metadata": {},
   "outputs": [],
   "source": [
    "f = open(\"radhe1.txt\", 'r+')"
   ]
  },
  {
   "cell_type": "code",
   "execution_count": 86,
   "id": "fd6ac2be",
   "metadata": {},
   "outputs": [
    {
     "data": {
      "text/plain": [
       "['Greetings from AI KI Pathshala!! \\n',\n",
       " 'We value sharing knowledge and help people grow.\\n',\n",
       " 'I also mentor people both personally and carrier wise']"
      ]
     },
     "execution_count": 86,
     "metadata": {},
     "output_type": "execute_result"
    }
   ],
   "source": [
    "f.readlines()"
   ]
  },
  {
   "cell_type": "code",
   "execution_count": 87,
   "id": "75752a61",
   "metadata": {},
   "outputs": [],
   "source": [
    "f.close()"
   ]
  },
  {
   "cell_type": "code",
   "execution_count": null,
   "id": "ea69d588",
   "metadata": {},
   "outputs": [],
   "source": [
    "# list method"
   ]
  },
  {
   "cell_type": "code",
   "execution_count": 88,
   "id": "b8e8f522",
   "metadata": {},
   "outputs": [],
   "source": [
    "f = open(\"radhe1.txt\", 'r+')"
   ]
  },
  {
   "cell_type": "code",
   "execution_count": 89,
   "id": "2f348027",
   "metadata": {},
   "outputs": [
    {
     "data": {
      "text/plain": [
       "['Greetings from AI KI Pathshala!! \\n',\n",
       " 'We value sharing knowledge and help people grow.\\n',\n",
       " 'I also mentor people both personally and carrier wise']"
      ]
     },
     "execution_count": 89,
     "metadata": {},
     "output_type": "execute_result"
    }
   ],
   "source": [
    "list(f)"
   ]
  },
  {
   "cell_type": "code",
   "execution_count": 90,
   "id": "db2a1b1a",
   "metadata": {},
   "outputs": [],
   "source": [
    "f.close()"
   ]
  },
  {
   "cell_type": "code",
   "execution_count": null,
   "id": "e60a28d9",
   "metadata": {},
   "outputs": [],
   "source": [
    "# Writelines method"
   ]
  },
  {
   "cell_type": "code",
   "execution_count": 91,
   "id": "ac6823ca",
   "metadata": {},
   "outputs": [],
   "source": [
    "# open the file in write mode\n",
    "\n",
    "file_name = \"radhe1.txt\"\n",
    "\n",
    "with open(file_name, 'w') as file:\n",
    "    line_to_write = [\"This is my first line.\\n\", \"This is the second line.\\n\",\n",
    "                     \"This is my third line.\\n\"]\n",
    "    \n",
    "    file.writelines(line_to_write)"
   ]
  },
  {
   "cell_type": "code",
   "execution_count": 92,
   "id": "cd7a78cb",
   "metadata": {},
   "outputs": [
    {
     "name": "stdout",
     "output_type": "stream",
     "text": [
      "This is my first line.\n",
      "\n",
      "This is the second line.\n",
      "\n",
      "This is my third line.\n",
      "\n"
     ]
    }
   ],
   "source": [
    "with open(file_name, 'r') as file:\n",
    "    for line in file:\n",
    "        print(line)"
   ]
  },
  {
   "cell_type": "code",
   "execution_count": null,
   "id": "8c12190a",
   "metadata": {},
   "outputs": [],
   "source": [
    "# file no method"
   ]
  },
  {
   "cell_type": "code",
   "execution_count": 93,
   "id": "cdd17a02",
   "metadata": {},
   "outputs": [],
   "source": [
    "f = open(\"radhe1.txt\", 'r+')"
   ]
  },
  {
   "cell_type": "code",
   "execution_count": 94,
   "id": "15c9cc0b",
   "metadata": {},
   "outputs": [
    {
     "data": {
      "text/plain": [
       "68"
      ]
     },
     "execution_count": 94,
     "metadata": {},
     "output_type": "execute_result"
    }
   ],
   "source": [
    "f.fileno()"
   ]
  },
  {
   "cell_type": "code",
   "execution_count": null,
   "id": "2ba0fd89",
   "metadata": {},
   "outputs": [],
   "source": [
    "# unique identifier or references to an open file in an operating system"
   ]
  }
 ],
 "metadata": {
  "kernelspec": {
   "display_name": "Python 3 (ipykernel)",
   "language": "python",
   "name": "python3"
  },
  "language_info": {
   "codemirror_mode": {
    "name": "ipython",
    "version": 3
   },
   "file_extension": ".py",
   "mimetype": "text/x-python",
   "name": "python",
   "nbconvert_exporter": "python",
   "pygments_lexer": "ipython3",
   "version": "3.11.4"
  }
 },
 "nbformat": 4,
 "nbformat_minor": 5
}
